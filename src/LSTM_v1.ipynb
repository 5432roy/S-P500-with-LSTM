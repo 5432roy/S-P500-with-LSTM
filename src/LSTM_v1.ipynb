{
 "cells": [
  {
   "cell_type": "code",
   "execution_count": 1,
   "id": "cf931b18-e911-4dfc-92d3-758d860c62cb",
   "metadata": {},
   "outputs": [],
   "source": [
    "import torch\n",
    "import torch.nn as nn\n",
    "import numpy as np\n",
    "import pandas as pd\n",
    "from torch.utils.data import DataLoader, TensorDataset\n",
    "from sklearn.preprocessing import MinMaxScaler\n",
    "import matplotlib.pyplot as plt"
   ]
  },
  {
   "cell_type": "code",
   "execution_count": 2,
   "id": "6a14001d-b017-4a02-9041-0af30c2e1caa",
   "metadata": {},
   "outputs": [],
   "source": [
    "# Set device to cuda\n",
    "device = torch.device(\"cuda\" if torch.cuda.is_available() else \"cpu\")"
   ]
  },
  {
   "cell_type": "code",
   "execution_count": 3,
   "id": "89ea5607-fa27-4940-9965-5ae569d67747",
   "metadata": {},
   "outputs": [],
   "source": [
    "# Load and normalize the data\n",
    "df = pd.read_csv('../data/S&P500_5_years.csv', usecols=['Close/Last', 'Open', 'High', 'Low'])\n",
    "\n",
    "scaler = MinMaxScaler(feature_range=(-1, 1))\n",
    "scaled_data = scaler.fit_transform(df)"
   ]
  },
  {
   "cell_type": "code",
   "execution_count": 4,
   "id": "2500dd55-05a7-4287-9500-202b67e6484e",
   "metadata": {},
   "outputs": [],
   "source": [
    "# Function to create sequences\n",
    "def create_sequences(data, look_back_days):\n",
    "    xs, ys = [], []\n",
    "    for i in range(len(data)-look_back_days-1):\n",
    "        x = data[i:(i+look_back_days)]\n",
    "        y = data[i+look_back_days][0]  # Predict next close value\n",
    "        xs.append(x)\n",
    "        ys.append(y)\n",
    "    return np.array(xs), np.array(ys)"
   ]
  },
  {
   "cell_type": "code",
   "execution_count": 5,
   "id": "d1aaafe9-a2bf-4504-95fe-8c71ffdb82ab",
   "metadata": {},
   "outputs": [],
   "source": [
    "# Separate data\n",
    "look_back_days = 10  # Number of time steps to look back\n",
    "X, y = create_sequences(scaled_data, look_back_days)\n",
    "X_train, y_train = torch.FloatTensor(X), torch.FloatTensor(y)"
   ]
  },
  {
   "cell_type": "code",
   "execution_count": 6,
   "id": "1ee113fd-146f-42f8-9970-cf7ec59053f5",
   "metadata": {},
   "outputs": [],
   "source": [
    "# DataLoader\n",
    "train_data = TensorDataset(X_train, y_train)\n",
    "train_loader = DataLoader(train_data, shuffle=True, batch_size=1, drop_last=True)"
   ]
  },
  {
   "cell_type": "code",
   "execution_count": 7,
   "id": "94f61923-9298-4e4e-98aa-f6ff117485a1",
   "metadata": {},
   "outputs": [],
   "source": [
    "class StockLSTM(nn.Module):\n",
    "    def __init__(self, input_size=40, hidden_layer_size=100, output_size=1):\n",
    "        super().__init__()\n",
    "        self.hidden_layer_size = hidden_layer_size\n",
    "        self.lstm = nn.LSTM(input_size, hidden_layer_size)\n",
    "        self.linear = nn.Linear(hidden_layer_size, output_size)\n",
    "        self.hidden_cell = (torch.zeros(1,1,self.hidden_layer_size, device=device),\n",
    "                            torch.zeros(1,1,self.hidden_layer_size, device=device))\n",
    "\n",
    "    def forward(self, input_seq):\n",
    "        lstm_out, self.hidden_cell = self.lstm(input_seq.view(len(input_seq), 1, -1), self.hidden_cell)\n",
    "        predictions = self.linear(lstm_out.view(len(input_seq), -1))\n",
    "        return predictions[-1]"
   ]
  },
  {
   "cell_type": "code",
   "execution_count": 8,
   "id": "2ca9016c-ca06-449c-a5db-6af8ddaafeda",
   "metadata": {},
   "outputs": [],
   "source": [
    "model = StockLSTM().to(device)\n",
    "loss_function = nn.MSELoss()\n",
    "optimizer = torch.optim.Adam(model.parameters(), lr=0.001)"
   ]
  },
  {
   "cell_type": "code",
   "execution_count": 9,
   "id": "54a42e57-84ef-449b-a758-b924f265bde4",
   "metadata": {},
   "outputs": [
    {
     "name": "stdout",
     "output_type": "stream",
     "text": [
      "epoch:   0 loss: 0.00179387\n",
      "epoch:  25 loss: 0.00088944\n",
      "epoch:  50 loss: 0.00090426\n",
      "epoch:  75 loss: 0.00035515\n",
      "epoch: 100 loss: 0.00030005\n",
      "epoch: 125 loss: 0.00000813\n"
     ]
    }
   ],
   "source": [
    "epochs = 150\n",
    "\n",
    "for i in range(epochs):\n",
    "    for seq, labels in train_loader:\n",
    "        seq, labels = seq.to(device), labels.to(device)\n",
    "        \n",
    "        optimizer.zero_grad()\n",
    "        model.hidden_cell = (torch.zeros(1, 1, model.hidden_layer_size, device=device),\n",
    "                             torch.zeros(1, 1, model.hidden_layer_size, device=device))\n",
    "\n",
    "        y_pred = model(seq)\n",
    "        single_loss = loss_function(y_pred, labels)\n",
    "        single_loss.backward()\n",
    "        optimizer.step()\n",
    "\n",
    "    if i % 25 == 0:\n",
    "        print(f'epoch: {i:3} loss: {single_loss.item():10.8f}')"
   ]
  },
  {
   "cell_type": "code",
   "execution_count": null,
   "id": "f749ac57-6231-4863-8e2c-17e9e45f8946",
   "metadata": {},
   "outputs": [],
   "source": []
  }
 ],
 "metadata": {
  "kernelspec": {
   "display_name": "Python 3 (ipykernel)",
   "language": "python",
   "name": "python3"
  },
  "language_info": {
   "codemirror_mode": {
    "name": "ipython",
    "version": 3
   },
   "file_extension": ".py",
   "mimetype": "text/x-python",
   "name": "python",
   "nbconvert_exporter": "python",
   "pygments_lexer": "ipython3",
   "version": "3.11.4"
  }
 },
 "nbformat": 4,
 "nbformat_minor": 5
}
