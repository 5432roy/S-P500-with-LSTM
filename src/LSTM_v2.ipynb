{
 "cells": [
  {
   "cell_type": "code",
   "execution_count": 6,
   "id": "cf931b18-e911-4dfc-92d3-758d860c62cb",
   "metadata": {},
   "outputs": [],
   "source": [
    "import torch\n",
    "import torch.nn as nn\n",
    "import numpy as np\n",
    "import pandas as pd\n",
    "from torch.utils.data import DataLoader, TensorDataset\n",
    "from sklearn.preprocessing import MinMaxScaler\n",
    "import matplotlib.pyplot as plt"
   ]
  },
  {
   "cell_type": "code",
   "execution_count": 7,
   "id": "6a14001d-b017-4a02-9041-0af30c2e1caa",
   "metadata": {},
   "outputs": [],
   "source": [
    "# Set device to cuda\n",
    "device = torch.device(\"cuda\" if torch.cuda.is_available() else \"cpu\")"
   ]
  },
  {
   "cell_type": "code",
   "execution_count": 8,
   "id": "89ea5607-fa27-4940-9965-5ae569d67747",
   "metadata": {},
   "outputs": [],
   "source": [
    "# Load and normalize the data\n",
    "df = pd.read_csv('../data/Reversed_S&P500_5_years.csv', usecols=['Close/Last', 'Open', 'High', 'Low'])\n",
    "\n",
    "scaler = MinMaxScaler(feature_range=(-1, 1))\n",
    "scaled_data = scaler.fit_transform(df)"
   ]
  },
  {
   "cell_type": "code",
   "execution_count": 9,
   "id": "de44067a-9cbf-40c6-ab18-26ecf7c158b6",
   "metadata": {},
   "outputs": [],
   "source": [
    "def create_test(data, days):\n",
    "    xs = []\n",
    "    if len(data) < days:\n",
    "        raise \"Warning: Not enough data for the ${days}\"\n",
    "    for i in range(len(data) - days):\n",
    "        xs.append(data[i : i + days])\n",
    "        \n",
    "    xs = np.array(xs, dtype=np.float32)\n",
    "    return torch.tensor(xs)"
   ]
  },
  {
   "cell_type": "code",
   "execution_count": 10,
   "id": "1ae7bfb4",
   "metadata": {},
   "outputs": [],
   "source": [
    "def create_result(data, days):\n",
    "    ys = []\n",
    "    if len(data) < days:\n",
    "        raise \"Warning: Not enough data for the ${days}\"\n",
    "    for i in range(days, len(data)):\n",
    "        y = data[i][0]\n",
    "        ys.append(y)\n",
    "    \n",
    "    ys = np.array(ys, dtype=np.float32)\n",
    "    return torch.tensor(ys)"
   ]
  },
  {
   "cell_type": "code",
   "execution_count": 11,
   "id": "2a8de721",
   "metadata": {},
   "outputs": [],
   "source": [
    "days = 10"
   ]
  },
  {
   "cell_type": "code",
   "execution_count": 12,
   "id": "6f6538a8",
   "metadata": {},
   "outputs": [
    {
     "name": "stdout",
     "output_type": "stream",
     "text": [
      "3\n",
      "torch.Size([1249, 10, 4])\n",
      "tensor([[[-0.6115, -0.6507, -0.6458, -0.5926],\n",
      "         [-0.6080, -0.6436, -0.6440, -0.5878],\n",
      "         [-0.6150, -0.6427, -0.6500, -0.5946],\n",
      "         [-0.6023, -0.6424, -0.6408, -0.5842],\n",
      "         [-0.5998, -0.6251, -0.6268, -0.5730],\n",
      "         [-0.6014, -0.6339, -0.6343, -0.5769],\n",
      "         [-0.6025, -0.6374, -0.6397, -0.5871],\n",
      "         [-0.6081, -0.6370, -0.6411, -0.5818],\n",
      "         [-0.5944, -0.6296, -0.6307, -0.5784],\n",
      "         [-0.6022, -0.6178, -0.6243, -0.5923]],\n",
      "\n",
      "        [[-0.6080, -0.6436, -0.6440, -0.5878],\n",
      "         [-0.6150, -0.6427, -0.6500, -0.5946],\n",
      "         [-0.6023, -0.6424, -0.6408, -0.5842],\n",
      "         [-0.5998, -0.6251, -0.6268, -0.5730],\n",
      "         [-0.6014, -0.6339, -0.6343, -0.5769],\n",
      "         [-0.6025, -0.6374, -0.6397, -0.5871],\n",
      "         [-0.6081, -0.6370, -0.6411, -0.5818],\n",
      "         [-0.5944, -0.6296, -0.6307, -0.5784],\n",
      "         [-0.6022, -0.6178, -0.6243, -0.5923],\n",
      "         [-0.6045, -0.6324, -0.6392, -0.5815]]])\n"
     ]
    }
   ],
   "source": [
    "xs = create_test(scaled_data, days)\n",
    "\n",
    "print(xs.ndim)\n",
    "print(xs.size())\n",
    "print(xs[0:2])"
   ]
  },
  {
   "cell_type": "code",
   "execution_count": 13,
   "id": "235f8c97",
   "metadata": {},
   "outputs": [
    {
     "name": "stdout",
     "output_type": "stream",
     "text": [
      "torch.Size([1249])\n",
      "tensor([-0.6045, -0.6175, -0.6336, -0.6378, -0.6090, -0.6031, -0.5892, -0.5910,\n",
      "        -0.5809, -0.5734])\n"
     ]
    }
   ],
   "source": [
    "ys = create_result(scaled_data, days)\n",
    "\n",
    "# print(ys.ndim)\n",
    "print(ys.size())\n",
    "print(ys[0:10])"
   ]
  },
  {
   "cell_type": "code",
   "execution_count": 14,
   "id": "be32696b",
   "metadata": {},
   "outputs": [
    {
     "name": "stdout",
     "output_type": "stream",
     "text": [
      "999 999\n"
     ]
    }
   ],
   "source": [
    "#Spliting the data\n",
    "\n",
    "split_ratio = 0.8\n",
    "split_index = int(xs.size()[0] * split_ratio)\n",
    "\n",
    "train_x = xs[:split_index]\n",
    "train_y = ys[:split_index]\n",
    "\n",
    "print(len(train_x), len(train_y))"
   ]
  },
  {
   "cell_type": "code",
   "execution_count": 15,
   "id": "1ee113fd-146f-42f8-9970-cf7ec59053f5",
   "metadata": {},
   "outputs": [],
   "source": [
    "# DataLoader\n",
    "train_data = TensorDataset(train_x, train_y)\n",
    "train_loader = DataLoader(train_data, shuffle=False, batch_size=1, drop_last=True)"
   ]
  },
  {
   "cell_type": "code",
   "execution_count": 16,
   "id": "94f61923-9298-4e4e-98aa-f6ff117485a1",
   "metadata": {},
   "outputs": [],
   "source": [
    "class StockLSTM(nn.Module):\n",
    "    def __init__(self, input_size=4*days, hidden_layer_size=100, output_size=1):\n",
    "        super().__init__()\n",
    "        self.hidden_layer_size = hidden_layer_size\n",
    "        self.lstm = nn.LSTM(input_size, hidden_layer_size)\n",
    "        self.linear = nn.Linear(hidden_layer_size, output_size)\n",
    "        self.hidden_cell = (torch.zeros(1,1,self.hidden_layer_size, device=device),\n",
    "                            torch.zeros(1,1,self.hidden_layer_size, device=device))\n",
    "\n",
    "    def forward(self, input_seq):\n",
    "        lstm_out, self.hidden_cell = self.lstm(input_seq.view(len(input_seq), 1, -1), self.hidden_cell)\n",
    "        predictions = self.linear(lstm_out.view(len(input_seq), -1))\n",
    "        return predictions[-1]"
   ]
  },
  {
   "cell_type": "code",
   "execution_count": 17,
   "id": "2ca9016c-ca06-449c-a5db-6af8ddaafeda",
   "metadata": {},
   "outputs": [],
   "source": [
    "model = StockLSTM().to(device)\n",
    "loss_function = nn.MSELoss()\n",
    "optimizer = torch.optim.Adam(model.parameters(), lr=0.001)"
   ]
  },
  {
   "cell_type": "code",
   "execution_count": 18,
   "id": "54a42e57-84ef-449b-a758-b924f265bde4",
   "metadata": {},
   "outputs": [
    {
     "name": "stdout",
     "output_type": "stream",
     "text": [
      "epoch:   0 loss: 0.00031425\n",
      "epoch:  25 loss: 0.00014801\n"
     ]
    }
   ],
   "source": [
    "epochs = 50\n",
    "\n",
    "for i in range(epochs):\n",
    "    for seq, labels in train_loader:\n",
    "        seq, labels = seq.to(device), labels.to(device)\n",
    "        \n",
    "        optimizer.zero_grad()\n",
    "        model.hidden_cell = (torch.zeros(1, 1, model.hidden_layer_size, device=device),\n",
    "                             torch.zeros(1, 1, model.hidden_layer_size, device=device))\n",
    "\n",
    "        y_pred = model(seq)\n",
    "        single_loss = loss_function(y_pred, labels)\n",
    "        single_loss.backward()\n",
    "        optimizer.step()\n",
    "\n",
    "    if i % 25 == 0:\n",
    "        print(f'epoch: {i:3} loss: {single_loss.item():10.8f}')"
   ]
  },
  {
   "cell_type": "code",
   "execution_count": 47,
   "id": "cd47ad9a-2835-440c-bbdc-b7f68a59c7aa",
   "metadata": {},
   "outputs": [],
   "source": [
    "# create the sequence for prediction, the assumption here is that the 0th index has the most recent data\n",
    "def create_sequences_for_eval(data, days, days_ago):\n",
    "    xs = []\n",
    "    if len(data) < days :\n",
    "        raise \"Warning: Not enough data for the ${days}\"\n",
    "    if days_ago == 0 :\n",
    "        xs.append(data[-days:])\n",
    "    else :\n",
    "        xs.append(data[-days_ago - days : -days_ago])\n",
    "        \n",
    "    print(xs[-1][-1])\n",
    "        \n",
    "    xs = np.array(xs, dtype=np.float32)\n",
    "    return torch.tensor(xs)\n"
   ]
  },
  {
   "cell_type": "code",
   "execution_count": 50,
   "id": "f749ac57-6231-4863-8e2c-17e9e45f8946",
   "metadata": {},
   "outputs": [
    {
     "name": "stdout",
     "output_type": "stream",
     "text": [
      "[0.94906046 0.91602017 0.94679109 0.92294431]\n",
      "[0.94906046 0.91602017 0.94679109 0.92294431]\n",
      "Predicted price: 4495.14 ---- Actual price: 4942.81 ---- Diff:  -9.96%\n",
      "[0.91151476 0.87591683 0.8970615  0.88438107]\n",
      "[0.91151476 0.87591683 0.8970615  0.88438107]\n",
      "Predicted price: 4472.21 ---- Actual price: 4958.61 ---- Diff: -10.88%\n",
      "[0.86815312 0.90370819 0.89690136 0.87845535]\n",
      "[0.86815312 0.90370819 0.89690136 0.87845535]\n",
      "Predicted price: 4477.96 ---- Actual price: 4906.19 ---- Diff:  -9.56%\n",
      "[0.92496589 0.92319425 0.91461826 0.92880632]\n",
      "[0.92496589 0.92319425 0.91461826 0.92880632]\n",
      "Predicted price: 4524.45 ---- Actual price: 4845.65 ---- Diff:  -7.10%\n",
      "[0.92708598 0.89915414 0.91332261 0.90836717]\n",
      "[0.92708598 0.89915414 0.91332261 0.90836717]\n",
      "Predicted price: 4544.59 ---- Actual price: 4924.97 ---- Diff:  -8.37%\n",
      "[0.90061347 0.89620569 0.89685769 0.90416889]\n",
      "[0.90061347 0.89620569 0.89685769 0.90416889]\n",
      "Predicted price: 4541.71 ---- Actual price: 4927.93 ---- Diff:  -8.50%\n",
      "[0.9028983  0.89456361 0.89064149 0.89558119]\n",
      "[0.9028983  0.89456361 0.89064149 0.89558119]\n",
      "Predicted price: 4538.06 ---- Actual price: 4890.97 ---- Diff:  -7.78%\n",
      "[0.88455519 0.89595026 0.89466673 0.89317409]\n",
      "[0.88455519 0.89595026 0.89466673 0.89317409]\n",
      "Predicted price: 4531.96 ---- Actual price: 4894.16 ---- Diff:  -7.99%\n",
      "[0.88172601 0.87277133 0.86758915 0.87790313]\n",
      "[0.88172601 0.87277133 0.86758915 0.87790313]\n",
      "Predicted price: 4521.96 ---- Actual price: 4868.55 ---- Diff:  -7.66%\n",
      "[0.87157678 0.87030455 0.86899398 0.87767658]\n",
      "[0.87157678 0.87030455 0.86899398 0.87767658]\n",
      "Predicted price: 4514.42 ---- Actual price: 4864.6 ---- Diff:  -7.76%\n"
     ]
    }
   ],
   "source": [
    "# this block for prediction testing\n",
    "model.eval()\n",
    "\n",
    "# this variable modified which date we are predicting, 25 means we are predicting the price for the 24th date, 0 is looking for future\n",
    "for days_ago in range(10, 20):\n",
    "    #days_ago = 1\n",
    "    \n",
    "    recent_seq_scaled = create_sequences_for_eval(scaled_data, days, days_ago)\n",
    "    \n",
    "    if torch.cuda.is_available():\n",
    "        recent_seq_scaled  = recent_seq_scaled.to('cuda')\n",
    "    \n",
    "    \n",
    "    with torch.no_grad():\n",
    "        predict = model(recent_seq_scaled)\n",
    "    \n",
    "    dummy_input = np.zeros((1, 4))  # 4 features for 'Close/Last', 'Open', 'High', 'Low'\n",
    "    dummy_input[0, 0] = predict  # Replace the first value with your prediction\n",
    "    \n",
    "    # Perform inverse transformation\n",
    "    predicted_stock_price_scaled = scaler.inverse_transform(dummy_input)[0, 0]\n",
    "    if days_ago == 0 :\n",
    "        print(f\"Predicted price: {predicted_stock_price_scaled:6.2f}\")\n",
    "    else :\n",
    "        print(f\"Predicted price: {predicted_stock_price_scaled:6.2f} ---- Actual price: {df.iloc[-days_ago, 0]:6} ---- \", end=\"\")\n",
    "        Diff = (predicted_stock_price_scaled - df.iloc[-days_ago, 0]) / predicted_stock_price_scaled\n",
    "        Diff_percentage = \"{:6.2f}%\".format(Diff * 100)\n",
    "        print(f\"Diff: {Diff_percentage}\")\n",
    "\n",
    "    # print(recent_seq_scaled[9][::-1])\n",
    "    # print(scaled_data[days_ago:days_ago + 10])"
   ]
  },
  {
   "cell_type": "code",
   "execution_count": null,
   "id": "9f427f80-6ac7-4862-a115-1e55b7ed519f",
   "metadata": {},
   "outputs": [],
   "source": []
  }
 ],
 "metadata": {
  "kernelspec": {
   "display_name": "Python 3 (ipykernel)",
   "language": "python",
   "name": "python3"
  },
  "language_info": {
   "codemirror_mode": {
    "name": "ipython",
    "version": 3
   },
   "file_extension": ".py",
   "mimetype": "text/x-python",
   "name": "python",
   "nbconvert_exporter": "python",
   "pygments_lexer": "ipython3",
   "version": "3.11.4"
  }
 },
 "nbformat": 4,
 "nbformat_minor": 5
}
