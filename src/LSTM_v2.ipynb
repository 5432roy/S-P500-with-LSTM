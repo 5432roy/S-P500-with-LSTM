{
 "cells": [
  {
   "cell_type": "code",
   "execution_count": 1,
   "id": "cf931b18-e911-4dfc-92d3-758d860c62cb",
   "metadata": {},
   "outputs": [],
   "source": [
    "import torch\n",
    "import torch.nn as nn\n",
    "import numpy as np\n",
    "import pandas as pd\n",
    "from torch.utils.data import DataLoader, TensorDataset\n",
    "from sklearn.preprocessing import MinMaxScaler\n",
    "import matplotlib.pyplot as plt"
   ]
  },
  {
   "cell_type": "code",
   "execution_count": 2,
   "id": "6a14001d-b017-4a02-9041-0af30c2e1caa",
   "metadata": {},
   "outputs": [],
   "source": [
    "# Set device to cuda\n",
    "device = torch.device(\"cuda\" if torch.cuda.is_available() else \"cpu\")"
   ]
  },
  {
   "cell_type": "code",
   "execution_count": 3,
   "id": "89ea5607-fa27-4940-9965-5ae569d67747",
   "metadata": {},
   "outputs": [],
   "source": [
    "# Load and normalize the data\n",
    "df = pd.read_csv('../data/NVDA_processed.csv', usecols=['Close/Last', 'Open', 'High', 'Low'])\n",
    "\n",
    "scaler = MinMaxScaler(feature_range=(-1, 1))\n",
    "scaled_data = scaler.fit_transform(df)"
   ]
  },
  {
   "cell_type": "code",
   "execution_count": 4,
   "id": "2500dd55-05a7-4287-9500-202b67e6484e",
   "metadata": {},
   "outputs": [],
   "source": [
    "# Function to create sequences\n",
    "def create_sequences(data, look_back_days):\n",
    "    xs, ys = [], []\n",
    "    for i in range(len(data) - look_back_days - 1, -1, -1):\n",
    "        x = data[i : (i + look_back_days)]\n",
    "        y = data[i + look_back_days][0]  # Predict next close value\n",
    "        xs.append(x)\n",
    "        ys.append(y)\n",
    "    return np.array(xs), np.array(ys)"
   ]
  },
  {
   "cell_type": "code",
   "execution_count": 5,
   "id": "d1aaafe9-a2bf-4504-95fe-8c71ffdb82ab",
   "metadata": {},
   "outputs": [],
   "source": [
    "# Separate data\n",
    "look_back_days = 10  # Number of time steps to look back\n",
    "X, y = create_sequences(scaled_data, look_back_days)\n",
    "X_train, y_train = torch.FloatTensor(X), torch.FloatTensor(y)"
   ]
  },
  {
   "cell_type": "code",
   "execution_count": 6,
   "id": "1ee113fd-146f-42f8-9970-cf7ec59053f5",
   "metadata": {},
   "outputs": [],
   "source": [
    "# DataLoader\n",
    "train_data = TensorDataset(X_train, y_train)\n",
    "train_loader = DataLoader(train_data, shuffle=True, batch_size=1, drop_last=True)"
   ]
  },
  {
   "cell_type": "code",
   "execution_count": 7,
   "id": "94f61923-9298-4e4e-98aa-f6ff117485a1",
   "metadata": {},
   "outputs": [],
   "source": [
    "class StockLSTM(nn.Module):\n",
    "    def __init__(self, input_size=40, hidden_layer_size=100, output_size=1):\n",
    "        super().__init__()\n",
    "        self.hidden_layer_size = hidden_layer_size\n",
    "        self.lstm = nn.LSTM(input_size, hidden_layer_size)\n",
    "        self.linear = nn.Linear(hidden_layer_size, output_size)\n",
    "        self.hidden_cell = (torch.zeros(1,1,self.hidden_layer_size, device=device),\n",
    "                            torch.zeros(1,1,self.hidden_layer_size, device=device))\n",
    "\n",
    "    def forward(self, input_seq):\n",
    "        lstm_out, self.hidden_cell = self.lstm(input_seq.view(len(input_seq), 1, -1), self.hidden_cell)\n",
    "        predictions = self.linear(lstm_out.view(len(input_seq), -1))\n",
    "        return predictions[-1]"
   ]
  },
  {
   "cell_type": "code",
   "execution_count": 8,
   "id": "2ca9016c-ca06-449c-a5db-6af8ddaafeda",
   "metadata": {},
   "outputs": [],
   "source": [
    "model = StockLSTM().to(device)\n",
    "loss_function = nn.MSELoss()\n",
    "optimizer = torch.optim.Adam(model.parameters(), lr=0.001)"
   ]
  },
  {
   "cell_type": "code",
   "execution_count": 9,
   "id": "54a42e57-84ef-449b-a758-b924f265bde4",
   "metadata": {},
   "outputs": [
    {
     "name": "stdout",
     "output_type": "stream",
     "text": [
      "epoch:   0 loss: 0.00026953\n",
      "epoch:  25 loss: 0.00007520\n",
      "epoch:  50 loss: 0.00001673\n",
      "epoch:  75 loss: 0.00040388\n",
      "epoch: 100 loss: 0.00014171\n",
      "epoch: 125 loss: 0.00000086\n"
     ]
    }
   ],
   "source": [
    "epochs = 150\n",
    "\n",
    "for i in range(epochs):\n",
    "    for seq, labels in train_loader:\n",
    "        seq, labels = seq.to(device), labels.to(device)\n",
    "        \n",
    "        optimizer.zero_grad()\n",
    "        model.hidden_cell = (torch.zeros(1, 1, model.hidden_layer_size, device=device),\n",
    "                             torch.zeros(1, 1, model.hidden_layer_size, device=device))\n",
    "\n",
    "        y_pred = model(seq)\n",
    "        single_loss = loss_function(y_pred, labels)\n",
    "        single_loss.backward()\n",
    "        optimizer.step()\n",
    "\n",
    "    if i % 25 == 0:\n",
    "        print(f'epoch: {i:3} loss: {single_loss.item():10.8f}')"
   ]
  },
  {
   "cell_type": "code",
   "execution_count": 47,
   "id": "cd47ad9a-2835-440c-bbdc-b7f68a59c7aa",
   "metadata": {},
   "outputs": [],
   "source": [
    "# create the sequence for prediction, the assumption here is that the 0th index has the most recent data\n",
    "def create_sequences_for_eval(data, look_back_days):\n",
    "    xs = []\n",
    "    for i in range(look_back_days - 1, -1, -1):\n",
    "        x = data[i : (i + 10)][::-1]\n",
    "        xs.append(x)\n",
    "    return np.array(xs)\n"
   ]
  },
  {
   "cell_type": "code",
   "execution_count": 83,
   "id": "f749ac57-6231-4863-8e2c-17e9e45f8946",
   "metadata": {},
   "outputs": [
    {
     "name": "stdout",
     "output_type": "stream",
     "text": [
      "Predicted stock price: 762.7772293452916, Actual price: 696.41\n",
      "Predicted stock price: 752.7639474947749, Actual price: 700.99\n",
      "Predicted stock price: 744.6661768485604, Actual price: 682.23\n",
      "Predicted stock price: 730.272874239534, Actual price: 693.32\n",
      "Predicted stock price: 703.5584408906101, Actual price: 661.6\n",
      "Predicted stock price: 687.771296969503, Actual price: 630.27\n",
      "Predicted stock price: 682.994372536689, Actual price: 615.27\n",
      "Predicted stock price: 690.6761208344994, Actual price: 627.74\n",
      "Predicted stock price: 681.0805257816611, Actual price: 624.65\n",
      "Predicted stock price: 675.9541794639824, Actual price: 610.31\n",
      "Predicted stock price: 675.1963827003538, Actual price: 616.17\n",
      "Predicted stock price: 660.9373156760632, Actual price: 613.62\n",
      "Predicted stock price: 645.6944241751729, Actual price: 598.73\n",
      "Predicted stock price: 643.3601690229773, Actual price: 596.54\n",
      "Predicted stock price: 627.418703663051, Actual price: 594.91\n",
      "Predicted stock price: 616.2962463115155, Actual price: 571.07\n",
      "Predicted stock price: 603.7107155551015, Actual price: 560.53\n",
      "Predicted stock price: 593.9584598374365, Actual price: 563.82\n",
      "Predicted stock price: 577.7106233482061, Actual price: 547.1\n",
      "Predicted stock price: 570.7004803326724, Actual price: 548.22\n"
     ]
    }
   ],
   "source": [
    "model.eval()\n",
    "\n",
    "# this variable modified which date we are predicting, 25 means we are predicting the price for the 24th date, 0 is looking for future\n",
    "for days_ago in range(10,30):\n",
    "    #days_ago = 1\n",
    "    \n",
    "    recent_seq_scaled = create_sequences_for_eval(scaled_data[days_ago:], look_back_days)\n",
    "    recent_seq_tensor  = torch.FloatTensor(recent_seq_scaled)\n",
    "    \n",
    "    if torch.cuda.is_available():\n",
    "        recent_seq_tensor  = recent_seq_tensor.to('cuda')\n",
    "    \n",
    "    \n",
    "    with torch.no_grad():\n",
    "        predict = model(recent_seq_tensor)\n",
    "    \n",
    "    dummy_input = np.zeros((1, 4))  # 4 features for 'Close/Last', 'Open', 'High', 'Low'\n",
    "    dummy_input[0, 0] = predict  # Replace the first value with your prediction\n",
    "    \n",
    "    # Perform inverse transformation\n",
    "    predicted_stock_price_scaled = scaler.inverse_transform(dummy_input)[0, 0]\n",
    "    \n",
    "    print(f\"Predicted stock price: {predicted_stock_price_scaled}, Actual price: {df.iloc[days_ago, 0]}\")\n",
    "\n",
    "    # print(recent_seq_scaled[9][::-1])\n",
    "    # print(scaled_data[days_ago:days_ago + 10])"
   ]
  },
  {
   "cell_type": "code",
   "execution_count": null,
   "id": "9f427f80-6ac7-4862-a115-1e55b7ed519f",
   "metadata": {},
   "outputs": [],
   "source": []
  }
 ],
 "metadata": {
  "kernelspec": {
   "display_name": "Python 3 (ipykernel)",
   "language": "python",
   "name": "python3"
  },
  "language_info": {
   "codemirror_mode": {
    "name": "ipython",
    "version": 3
   },
   "file_extension": ".py",
   "mimetype": "text/x-python",
   "name": "python",
   "nbconvert_exporter": "python",
   "pygments_lexer": "ipython3",
   "version": "3.11.4"
  }
 },
 "nbformat": 4,
 "nbformat_minor": 5
}
